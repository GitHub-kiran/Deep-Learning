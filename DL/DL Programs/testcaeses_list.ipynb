{
 "cells": [
  {
   "cell_type": "code",
   "execution_count": 1,
   "metadata": {},
   "outputs": [],
   "source": [
    "import pandas as pd"
   ]
  },
  {
   "cell_type": "code",
   "execution_count": 2,
   "metadata": {},
   "outputs": [],
   "source": [
    "import numpy as np"
   ]
  },
  {
   "cell_type": "code",
   "execution_count": 3,
   "metadata": {},
   "outputs": [],
   "source": [
    "testcases = pd.read_csv('new_userstory.csv')"
   ]
  },
  {
   "cell_type": "code",
   "execution_count": 4,
   "metadata": {},
   "outputs": [
    {
     "data": {
      "text/html": [
       "<div>\n",
       "<style scoped>\n",
       "    .dataframe tbody tr th:only-of-type {\n",
       "        vertical-align: middle;\n",
       "    }\n",
       "\n",
       "    .dataframe tbody tr th {\n",
       "        vertical-align: top;\n",
       "    }\n",
       "\n",
       "    .dataframe thead th {\n",
       "        text-align: right;\n",
       "    }\n",
       "</style>\n",
       "<table border=\"1\" class=\"dataframe\">\n",
       "  <thead>\n",
       "    <tr style=\"text-align: right;\">\n",
       "      <th></th>\n",
       "      <th>Userstory</th>\n",
       "      <th>TC_id</th>\n",
       "      <th>TC_name</th>\n",
       "      <th>QC Status</th>\n",
       "      <th>steps</th>\n",
       "      <th>possibility</th>\n",
       "      <th>assigned to</th>\n",
       "      <th>Reason</th>\n",
       "    </tr>\n",
       "  </thead>\n",
       "  <tbody>\n",
       "    <tr>\n",
       "      <th>0</th>\n",
       "      <td>US43431</td>\n",
       "      <td>295178</td>\n",
       "      <td>01.01 Conference Started message shown in the ...</td>\n",
       "      <td>candidate</td>\n",
       "      <td>18</td>\n",
       "      <td>yes</td>\n",
       "      <td>kiran</td>\n",
       "      <td>NaN</td>\n",
       "    </tr>\n",
       "    <tr>\n",
       "      <th>1</th>\n",
       "      <td>US43690</td>\n",
       "      <td>289772</td>\n",
       "      <td>01.00_Conversation with deleted user_1 to 1 chat</td>\n",
       "      <td>candidate</td>\n",
       "      <td>10</td>\n",
       "      <td>yes</td>\n",
       "      <td>kiran</td>\n",
       "      <td>NaN</td>\n",
       "    </tr>\n",
       "    <tr>\n",
       "      <th>2</th>\n",
       "      <td>US43690</td>\n",
       "      <td>295192</td>\n",
       "      <td>NaN</td>\n",
       "      <td>candidate</td>\n",
       "      <td>5</td>\n",
       "      <td>yes</td>\n",
       "      <td>Lois</td>\n",
       "      <td>NaN</td>\n",
       "    </tr>\n",
       "    <tr>\n",
       "      <th>3</th>\n",
       "      <td>US44470</td>\n",
       "      <td>289276</td>\n",
       "      <td>01.04 - Start conversation from 1-N contact ca...</td>\n",
       "      <td>candidate</td>\n",
       "      <td>10</td>\n",
       "      <td>yes</td>\n",
       "      <td>kiran</td>\n",
       "      <td>NaN</td>\n",
       "    </tr>\n",
       "    <tr>\n",
       "      <th>4</th>\n",
       "      <td>US44470</td>\n",
       "      <td>289256</td>\n",
       "      <td>02.02 User Attempts to start Direct Message wh...</td>\n",
       "      <td>candidate</td>\n",
       "      <td>13</td>\n",
       "      <td>no</td>\n",
       "      <td>NaN</td>\n",
       "      <td>step 11 says disconnect the LAN, which is not ...</td>\n",
       "    </tr>\n",
       "    <tr>\n",
       "      <th>5</th>\n",
       "      <td>US42531</td>\n",
       "      <td>288456</td>\n",
       "      <td>01.01 - Add Members field gets scrollbar if ne...</td>\n",
       "      <td>candidate</td>\n",
       "      <td>16</td>\n",
       "      <td>yes</td>\n",
       "      <td>kiran</td>\n",
       "      <td>NaN</td>\n",
       "    </tr>\n",
       "    <tr>\n",
       "      <th>6</th>\n",
       "      <td>US42531</td>\n",
       "      <td>288496</td>\n",
       "      <td>01.01.1 - Add Members  - Start conversation wi...</td>\n",
       "      <td>candidate</td>\n",
       "      <td>9</td>\n",
       "      <td>yes</td>\n",
       "      <td>kiran</td>\n",
       "      <td>NaN</td>\n",
       "    </tr>\n",
       "    <tr>\n",
       "      <th>7</th>\n",
       "      <td>US42531</td>\n",
       "      <td>288505</td>\n",
       "      <td>01.08 - Start conversation with only one contact.</td>\n",
       "      <td>done</td>\n",
       "      <td>7</td>\n",
       "      <td>yes</td>\n",
       "      <td>kiran</td>\n",
       "      <td>NaN</td>\n",
       "    </tr>\n",
       "    <tr>\n",
       "      <th>8</th>\n",
       "      <td>US42531</td>\n",
       "      <td>288503</td>\n",
       "      <td>01.07 - Verify tool tip on group conversation ...</td>\n",
       "      <td>candidate</td>\n",
       "      <td>12</td>\n",
       "      <td>yes</td>\n",
       "      <td>kiran</td>\n",
       "      <td>NaN</td>\n",
       "    </tr>\n",
       "    <tr>\n",
       "      <th>9</th>\n",
       "      <td>US42531</td>\n",
       "      <td>288560</td>\n",
       "      <td>01.09 - Verify Avatar in Conversation Panel</td>\n",
       "      <td>candidate</td>\n",
       "      <td>12</td>\n",
       "      <td>yes</td>\n",
       "      <td>kiran</td>\n",
       "      <td>NaN</td>\n",
       "    </tr>\n",
       "    <tr>\n",
       "      <th>10</th>\n",
       "      <td>US42532</td>\n",
       "      <td>288572</td>\n",
       "      <td>01.01 - Browser notifications - log in - When ...</td>\n",
       "      <td>candidate</td>\n",
       "      <td>19</td>\n",
       "      <td>no</td>\n",
       "      <td>NaN</td>\n",
       "      <td>step 15 say verify notification coming from Tw...</td>\n",
       "    </tr>\n",
       "    <tr>\n",
       "      <th>11</th>\n",
       "      <td>US42532</td>\n",
       "      <td>288640</td>\n",
       "      <td>01.09 - Ensure Mute status is maintained throu...</td>\n",
       "      <td>candidate</td>\n",
       "      <td>13</td>\n",
       "      <td>yes</td>\n",
       "      <td>kiran</td>\n",
       "      <td>here step 4 will be covered during launching o...</td>\n",
       "    </tr>\n",
       "    <tr>\n",
       "      <th>12</th>\n",
       "      <td>US44247</td>\n",
       "      <td>302586</td>\n",
       "      <td>01.04_Group Header Avatar in Conversation Pane...</td>\n",
       "      <td>candidate</td>\n",
       "      <td>3</td>\n",
       "      <td>yes</td>\n",
       "      <td>nishant</td>\n",
       "      <td>NaN</td>\n",
       "    </tr>\n",
       "  </tbody>\n",
       "</table>\n",
       "</div>"
      ],
      "text/plain": [
       "   Userstory   TC_id                                            TC_name  \\\n",
       "0    US43431  295178  01.01 Conference Started message shown in the ...   \n",
       "1    US43690  289772   01.00_Conversation with deleted user_1 to 1 chat   \n",
       "2    US43690  295192                                                NaN   \n",
       "3    US44470  289276  01.04 - Start conversation from 1-N contact ca...   \n",
       "4    US44470  289256  02.02 User Attempts to start Direct Message wh...   \n",
       "5    US42531  288456  01.01 - Add Members field gets scrollbar if ne...   \n",
       "6    US42531  288496  01.01.1 - Add Members  - Start conversation wi...   \n",
       "7    US42531  288505  01.08 - Start conversation with only one contact.   \n",
       "8    US42531  288503  01.07 - Verify tool tip on group conversation ...   \n",
       "9    US42531  288560        01.09 - Verify Avatar in Conversation Panel   \n",
       "10   US42532  288572  01.01 - Browser notifications - log in - When ...   \n",
       "11   US42532  288640  01.09 - Ensure Mute status is maintained throu...   \n",
       "12   US44247  302586  01.04_Group Header Avatar in Conversation Pane...   \n",
       "\n",
       "    QC Status  steps possibility assigned to  \\\n",
       "0   candidate     18         yes       kiran   \n",
       "1   candidate     10         yes       kiran   \n",
       "2   candidate      5         yes        Lois   \n",
       "3   candidate     10         yes       kiran   \n",
       "4   candidate     13          no         NaN   \n",
       "5   candidate     16         yes       kiran   \n",
       "6   candidate      9         yes       kiran   \n",
       "7        done      7         yes       kiran   \n",
       "8   candidate     12         yes       kiran   \n",
       "9   candidate     12         yes       kiran   \n",
       "10  candidate     19          no         NaN   \n",
       "11  candidate     13         yes       kiran   \n",
       "12  candidate      3         yes     nishant   \n",
       "\n",
       "                                             Reason    \n",
       "0                                                 NaN  \n",
       "1                                                 NaN  \n",
       "2                                                 NaN  \n",
       "3                                                 NaN  \n",
       "4   step 11 says disconnect the LAN, which is not ...  \n",
       "5                                                 NaN  \n",
       "6                                                 NaN  \n",
       "7                                                 NaN  \n",
       "8                                                 NaN  \n",
       "9                                                 NaN  \n",
       "10  step 15 say verify notification coming from Tw...  \n",
       "11  here step 4 will be covered during launching o...  \n",
       "12                                                NaN  "
      ]
     },
     "execution_count": 4,
     "metadata": {},
     "output_type": "execute_result"
    }
   ],
   "source": [
    "testcases"
   ]
  },
  {
   "cell_type": "code",
   "execution_count": 5,
   "metadata": {},
   "outputs": [
    {
     "data": {
      "text/html": [
       "<div>\n",
       "<style scoped>\n",
       "    .dataframe tbody tr th:only-of-type {\n",
       "        vertical-align: middle;\n",
       "    }\n",
       "\n",
       "    .dataframe tbody tr th {\n",
       "        vertical-align: top;\n",
       "    }\n",
       "\n",
       "    .dataframe thead th {\n",
       "        text-align: right;\n",
       "    }\n",
       "</style>\n",
       "<table border=\"1\" class=\"dataframe\">\n",
       "  <thead>\n",
       "    <tr style=\"text-align: right;\">\n",
       "      <th></th>\n",
       "      <th>Userstory</th>\n",
       "      <th>TC_id</th>\n",
       "      <th>TC_name</th>\n",
       "      <th>QC Status</th>\n",
       "      <th>steps</th>\n",
       "      <th>possibility</th>\n",
       "      <th>assigned to</th>\n",
       "      <th>Reason</th>\n",
       "    </tr>\n",
       "  </thead>\n",
       "  <tbody>\n",
       "    <tr>\n",
       "      <th>0</th>\n",
       "      <td>US43431</td>\n",
       "      <td>295178</td>\n",
       "      <td>01.01 Conference Started message shown in the ...</td>\n",
       "      <td>candidate</td>\n",
       "      <td>18</td>\n",
       "      <td>yes</td>\n",
       "      <td>kiran</td>\n",
       "      <td>NaN</td>\n",
       "    </tr>\n",
       "    <tr>\n",
       "      <th>1</th>\n",
       "      <td>US43690</td>\n",
       "      <td>289772</td>\n",
       "      <td>01.00_Conversation with deleted user_1 to 1 chat</td>\n",
       "      <td>candidate</td>\n",
       "      <td>10</td>\n",
       "      <td>yes</td>\n",
       "      <td>kiran</td>\n",
       "      <td>NaN</td>\n",
       "    </tr>\n",
       "    <tr>\n",
       "      <th>2</th>\n",
       "      <td>US43690</td>\n",
       "      <td>295192</td>\n",
       "      <td>NaN</td>\n",
       "      <td>candidate</td>\n",
       "      <td>5</td>\n",
       "      <td>yes</td>\n",
       "      <td>Lois</td>\n",
       "      <td>NaN</td>\n",
       "    </tr>\n",
       "    <tr>\n",
       "      <th>3</th>\n",
       "      <td>US44470</td>\n",
       "      <td>289276</td>\n",
       "      <td>01.04 - Start conversation from 1-N contact ca...</td>\n",
       "      <td>candidate</td>\n",
       "      <td>10</td>\n",
       "      <td>yes</td>\n",
       "      <td>kiran</td>\n",
       "      <td>NaN</td>\n",
       "    </tr>\n",
       "    <tr>\n",
       "      <th>4</th>\n",
       "      <td>US44470</td>\n",
       "      <td>289256</td>\n",
       "      <td>02.02 User Attempts to start Direct Message wh...</td>\n",
       "      <td>candidate</td>\n",
       "      <td>13</td>\n",
       "      <td>no</td>\n",
       "      <td>NaN</td>\n",
       "      <td>step 11 says disconnect the LAN, which is not ...</td>\n",
       "    </tr>\n",
       "  </tbody>\n",
       "</table>\n",
       "</div>"
      ],
      "text/plain": [
       "  Userstory   TC_id                                            TC_name  \\\n",
       "0   US43431  295178  01.01 Conference Started message shown in the ...   \n",
       "1   US43690  289772   01.00_Conversation with deleted user_1 to 1 chat   \n",
       "2   US43690  295192                                                NaN   \n",
       "3   US44470  289276  01.04 - Start conversation from 1-N contact ca...   \n",
       "4   US44470  289256  02.02 User Attempts to start Direct Message wh...   \n",
       "\n",
       "   QC Status  steps possibility assigned to  \\\n",
       "0  candidate     18         yes       kiran   \n",
       "1  candidate     10         yes       kiran   \n",
       "2  candidate      5         yes        Lois   \n",
       "3  candidate     10         yes       kiran   \n",
       "4  candidate     13          no         NaN   \n",
       "\n",
       "                                            Reason    \n",
       "0                                                NaN  \n",
       "1                                                NaN  \n",
       "2                                                NaN  \n",
       "3                                                NaN  \n",
       "4  step 11 says disconnect the LAN, which is not ...  "
      ]
     },
     "execution_count": 5,
     "metadata": {},
     "output_type": "execute_result"
    }
   ],
   "source": [
    "testcases.head()"
   ]
  },
  {
   "cell_type": "code",
   "execution_count": 38,
   "metadata": {},
   "outputs": [
    {
     "data": {
      "text/plain": [
       "Index(['Userstory', 'TC_id', 'TC_name', 'QC Status', 'steps', 'possibility',\n",
       "       'assigned to', 'Reason  '],\n",
       "      dtype='object')"
      ]
     },
     "execution_count": 38,
     "metadata": {},
     "output_type": "execute_result"
    }
   ],
   "source": [
    "testcases.columns"
   ]
  },
  {
   "cell_type": "code",
   "execution_count": 39,
   "metadata": {},
   "outputs": [],
   "source": [
    "cols_to_norm = ['Userstory', 'TC_id', 'TC_name', 'QC Status', 'steps', 'possibility',\n",
    "       'assigned to', 'Reason  ']"
   ]
  },
  {
   "cell_type": "code",
   "execution_count": 40,
   "metadata": {},
   "outputs": [
    {
     "data": {
      "text/plain": [
       "['Userstory',\n",
       " 'TC_id',\n",
       " 'TC_name',\n",
       " 'QC Status',\n",
       " 'steps',\n",
       " 'possibility',\n",
       " 'assigned to',\n",
       " 'Reason  ']"
      ]
     },
     "execution_count": 40,
     "metadata": {},
     "output_type": "execute_result"
    }
   ],
   "source": [
    "cols_to_norm"
   ]
  },
  {
   "cell_type": "code",
   "execution_count": 41,
   "metadata": {},
   "outputs": [
    {
     "data": {
      "text/plain": [
       "Index(['Userstory', 'TC_id', 'TC_name', 'QC Status', 'steps', 'possibility',\n",
       "       'assigned to', 'Reason  '],\n",
       "      dtype='object')"
      ]
     },
     "execution_count": 41,
     "metadata": {},
     "output_type": "execute_result"
    }
   ],
   "source": [
    "testcases.columns"
   ]
  },
  {
   "cell_type": "code",
   "execution_count": 42,
   "metadata": {},
   "outputs": [
    {
     "data": {
      "text/html": [
       "<div>\n",
       "<style scoped>\n",
       "    .dataframe tbody tr th:only-of-type {\n",
       "        vertical-align: middle;\n",
       "    }\n",
       "\n",
       "    .dataframe tbody tr th {\n",
       "        vertical-align: top;\n",
       "    }\n",
       "\n",
       "    .dataframe thead th {\n",
       "        text-align: right;\n",
       "    }\n",
       "</style>\n",
       "<table border=\"1\" class=\"dataframe\">\n",
       "  <thead>\n",
       "    <tr style=\"text-align: right;\">\n",
       "      <th></th>\n",
       "      <th>Userstory</th>\n",
       "      <th>TC_id</th>\n",
       "      <th>TC_name</th>\n",
       "      <th>QC Status</th>\n",
       "      <th>steps</th>\n",
       "      <th>possibility</th>\n",
       "      <th>assigned to</th>\n",
       "      <th>Reason</th>\n",
       "    </tr>\n",
       "  </thead>\n",
       "  <tbody>\n",
       "    <tr>\n",
       "      <th>0</th>\n",
       "      <td>US43431</td>\n",
       "      <td>295178</td>\n",
       "      <td>01.01 Conference Started message shown in the ...</td>\n",
       "      <td>candidate</td>\n",
       "      <td>18</td>\n",
       "      <td>yes</td>\n",
       "      <td>kiran</td>\n",
       "      <td>NaN</td>\n",
       "    </tr>\n",
       "    <tr>\n",
       "      <th>1</th>\n",
       "      <td>US43690</td>\n",
       "      <td>289772</td>\n",
       "      <td>01.00_Conversation with deleted user_1 to 1 chat</td>\n",
       "      <td>candidate</td>\n",
       "      <td>10</td>\n",
       "      <td>yes</td>\n",
       "      <td>kiran</td>\n",
       "      <td>NaN</td>\n",
       "    </tr>\n",
       "    <tr>\n",
       "      <th>2</th>\n",
       "      <td>US43690</td>\n",
       "      <td>295192</td>\n",
       "      <td>NaN</td>\n",
       "      <td>candidate</td>\n",
       "      <td>5</td>\n",
       "      <td>yes</td>\n",
       "      <td>Lois</td>\n",
       "      <td>NaN</td>\n",
       "    </tr>\n",
       "    <tr>\n",
       "      <th>3</th>\n",
       "      <td>US44470</td>\n",
       "      <td>289276</td>\n",
       "      <td>01.04 - Start conversation from 1-N contact ca...</td>\n",
       "      <td>candidate</td>\n",
       "      <td>10</td>\n",
       "      <td>yes</td>\n",
       "      <td>kiran</td>\n",
       "      <td>NaN</td>\n",
       "    </tr>\n",
       "    <tr>\n",
       "      <th>4</th>\n",
       "      <td>US44470</td>\n",
       "      <td>289256</td>\n",
       "      <td>02.02 User Attempts to start Direct Message wh...</td>\n",
       "      <td>candidate</td>\n",
       "      <td>13</td>\n",
       "      <td>no</td>\n",
       "      <td>NaN</td>\n",
       "      <td>step 11 says disconnect the LAN, which is not ...</td>\n",
       "    </tr>\n",
       "  </tbody>\n",
       "</table>\n",
       "</div>"
      ],
      "text/plain": [
       "  Userstory   TC_id                                            TC_name  \\\n",
       "0   US43431  295178  01.01 Conference Started message shown in the ...   \n",
       "1   US43690  289772   01.00_Conversation with deleted user_1 to 1 chat   \n",
       "2   US43690  295192                                                NaN   \n",
       "3   US44470  289276  01.04 - Start conversation from 1-N contact ca...   \n",
       "4   US44470  289256  02.02 User Attempts to start Direct Message wh...   \n",
       "\n",
       "   QC Status  steps possibility assigned to  \\\n",
       "0  candidate     18         yes       kiran   \n",
       "1  candidate     10         yes       kiran   \n",
       "2  candidate      5         yes        Lois   \n",
       "3  candidate     10         yes       kiran   \n",
       "4  candidate     13          no         NaN   \n",
       "\n",
       "                                            Reason    \n",
       "0                                                NaN  \n",
       "1                                                NaN  \n",
       "2                                                NaN  \n",
       "3                                                NaN  \n",
       "4  step 11 says disconnect the LAN, which is not ...  "
      ]
     },
     "execution_count": 42,
     "metadata": {},
     "output_type": "execute_result"
    }
   ],
   "source": [
    "testcases.head()"
   ]
  },
  {
   "cell_type": "code",
   "execution_count": 43,
   "metadata": {},
   "outputs": [
    {
     "data": {
      "text/html": [
       "<div>\n",
       "<style scoped>\n",
       "    .dataframe tbody tr th:only-of-type {\n",
       "        vertical-align: middle;\n",
       "    }\n",
       "\n",
       "    .dataframe tbody tr th {\n",
       "        vertical-align: top;\n",
       "    }\n",
       "\n",
       "    .dataframe thead th {\n",
       "        text-align: right;\n",
       "    }\n",
       "</style>\n",
       "<table border=\"1\" class=\"dataframe\">\n",
       "  <thead>\n",
       "    <tr style=\"text-align: right;\">\n",
       "      <th></th>\n",
       "      <th>Userstory</th>\n",
       "      <th>TC_id</th>\n",
       "      <th>TC_name</th>\n",
       "      <th>QC Status</th>\n",
       "      <th>steps</th>\n",
       "      <th>possibility</th>\n",
       "      <th>assigned to</th>\n",
       "      <th>Reason</th>\n",
       "    </tr>\n",
       "  </thead>\n",
       "  <tbody>\n",
       "    <tr>\n",
       "      <th>0</th>\n",
       "      <td>US43431</td>\n",
       "      <td>295178</td>\n",
       "      <td>01.01 Conference Started message shown in the ...</td>\n",
       "      <td>candidate</td>\n",
       "      <td>18</td>\n",
       "      <td>yes</td>\n",
       "      <td>kiran</td>\n",
       "      <td>NaN</td>\n",
       "    </tr>\n",
       "    <tr>\n",
       "      <th>1</th>\n",
       "      <td>US43690</td>\n",
       "      <td>289772</td>\n",
       "      <td>01.00_Conversation with deleted user_1 to 1 chat</td>\n",
       "      <td>candidate</td>\n",
       "      <td>10</td>\n",
       "      <td>yes</td>\n",
       "      <td>kiran</td>\n",
       "      <td>NaN</td>\n",
       "    </tr>\n",
       "    <tr>\n",
       "      <th>2</th>\n",
       "      <td>US43690</td>\n",
       "      <td>295192</td>\n",
       "      <td>NaN</td>\n",
       "      <td>candidate</td>\n",
       "      <td>5</td>\n",
       "      <td>yes</td>\n",
       "      <td>Lois</td>\n",
       "      <td>NaN</td>\n",
       "    </tr>\n",
       "    <tr>\n",
       "      <th>3</th>\n",
       "      <td>US44470</td>\n",
       "      <td>289276</td>\n",
       "      <td>01.04 - Start conversation from 1-N contact ca...</td>\n",
       "      <td>candidate</td>\n",
       "      <td>10</td>\n",
       "      <td>yes</td>\n",
       "      <td>kiran</td>\n",
       "      <td>NaN</td>\n",
       "    </tr>\n",
       "    <tr>\n",
       "      <th>4</th>\n",
       "      <td>US44470</td>\n",
       "      <td>289256</td>\n",
       "      <td>02.02 User Attempts to start Direct Message wh...</td>\n",
       "      <td>candidate</td>\n",
       "      <td>13</td>\n",
       "      <td>no</td>\n",
       "      <td>NaN</td>\n",
       "      <td>step 11 says disconnect the LAN, which is not ...</td>\n",
       "    </tr>\n",
       "    <tr>\n",
       "      <th>5</th>\n",
       "      <td>US42531</td>\n",
       "      <td>288456</td>\n",
       "      <td>01.01 - Add Members field gets scrollbar if ne...</td>\n",
       "      <td>candidate</td>\n",
       "      <td>16</td>\n",
       "      <td>yes</td>\n",
       "      <td>kiran</td>\n",
       "      <td>NaN</td>\n",
       "    </tr>\n",
       "    <tr>\n",
       "      <th>6</th>\n",
       "      <td>US42531</td>\n",
       "      <td>288496</td>\n",
       "      <td>01.01.1 - Add Members  - Start conversation wi...</td>\n",
       "      <td>candidate</td>\n",
       "      <td>9</td>\n",
       "      <td>yes</td>\n",
       "      <td>kiran</td>\n",
       "      <td>NaN</td>\n",
       "    </tr>\n",
       "    <tr>\n",
       "      <th>7</th>\n",
       "      <td>US42531</td>\n",
       "      <td>288505</td>\n",
       "      <td>01.08 - Start conversation with only one contact.</td>\n",
       "      <td>done</td>\n",
       "      <td>7</td>\n",
       "      <td>yes</td>\n",
       "      <td>kiran</td>\n",
       "      <td>NaN</td>\n",
       "    </tr>\n",
       "    <tr>\n",
       "      <th>8</th>\n",
       "      <td>US42531</td>\n",
       "      <td>288503</td>\n",
       "      <td>01.07 - Verify tool tip on group conversation ...</td>\n",
       "      <td>candidate</td>\n",
       "      <td>12</td>\n",
       "      <td>yes</td>\n",
       "      <td>kiran</td>\n",
       "      <td>NaN</td>\n",
       "    </tr>\n",
       "    <tr>\n",
       "      <th>9</th>\n",
       "      <td>US42531</td>\n",
       "      <td>288560</td>\n",
       "      <td>01.09 - Verify Avatar in Conversation Panel</td>\n",
       "      <td>candidate</td>\n",
       "      <td>12</td>\n",
       "      <td>yes</td>\n",
       "      <td>kiran</td>\n",
       "      <td>NaN</td>\n",
       "    </tr>\n",
       "    <tr>\n",
       "      <th>10</th>\n",
       "      <td>US42532</td>\n",
       "      <td>288572</td>\n",
       "      <td>01.01 - Browser notifications - log in - When ...</td>\n",
       "      <td>candidate</td>\n",
       "      <td>19</td>\n",
       "      <td>no</td>\n",
       "      <td>NaN</td>\n",
       "      <td>step 15 say verify notification coming from Tw...</td>\n",
       "    </tr>\n",
       "    <tr>\n",
       "      <th>11</th>\n",
       "      <td>US42532</td>\n",
       "      <td>288640</td>\n",
       "      <td>01.09 - Ensure Mute status is maintained throu...</td>\n",
       "      <td>candidate</td>\n",
       "      <td>13</td>\n",
       "      <td>yes</td>\n",
       "      <td>kiran</td>\n",
       "      <td>here step 4 will be covered during launching o...</td>\n",
       "    </tr>\n",
       "    <tr>\n",
       "      <th>12</th>\n",
       "      <td>US44247</td>\n",
       "      <td>302586</td>\n",
       "      <td>01.04_Group Header Avatar in Conversation Pane...</td>\n",
       "      <td>candidate</td>\n",
       "      <td>3</td>\n",
       "      <td>yes</td>\n",
       "      <td>nishant</td>\n",
       "      <td>NaN</td>\n",
       "    </tr>\n",
       "  </tbody>\n",
       "</table>\n",
       "</div>"
      ],
      "text/plain": [
       "   Userstory   TC_id                                            TC_name  \\\n",
       "0    US43431  295178  01.01 Conference Started message shown in the ...   \n",
       "1    US43690  289772   01.00_Conversation with deleted user_1 to 1 chat   \n",
       "2    US43690  295192                                                NaN   \n",
       "3    US44470  289276  01.04 - Start conversation from 1-N contact ca...   \n",
       "4    US44470  289256  02.02 User Attempts to start Direct Message wh...   \n",
       "5    US42531  288456  01.01 - Add Members field gets scrollbar if ne...   \n",
       "6    US42531  288496  01.01.1 - Add Members  - Start conversation wi...   \n",
       "7    US42531  288505  01.08 - Start conversation with only one contact.   \n",
       "8    US42531  288503  01.07 - Verify tool tip on group conversation ...   \n",
       "9    US42531  288560        01.09 - Verify Avatar in Conversation Panel   \n",
       "10   US42532  288572  01.01 - Browser notifications - log in - When ...   \n",
       "11   US42532  288640  01.09 - Ensure Mute status is maintained throu...   \n",
       "12   US44247  302586  01.04_Group Header Avatar in Conversation Pane...   \n",
       "\n",
       "    QC Status  steps possibility assigned to  \\\n",
       "0   candidate     18         yes       kiran   \n",
       "1   candidate     10         yes       kiran   \n",
       "2   candidate      5         yes        Lois   \n",
       "3   candidate     10         yes       kiran   \n",
       "4   candidate     13          no         NaN   \n",
       "5   candidate     16         yes       kiran   \n",
       "6   candidate      9         yes       kiran   \n",
       "7        done      7         yes       kiran   \n",
       "8   candidate     12         yes       kiran   \n",
       "9   candidate     12         yes       kiran   \n",
       "10  candidate     19          no         NaN   \n",
       "11  candidate     13         yes       kiran   \n",
       "12  candidate      3         yes     nishant   \n",
       "\n",
       "                                             Reason    \n",
       "0                                                 NaN  \n",
       "1                                                 NaN  \n",
       "2                                                 NaN  \n",
       "3                                                 NaN  \n",
       "4   step 11 says disconnect the LAN, which is not ...  \n",
       "5                                                 NaN  \n",
       "6                                                 NaN  \n",
       "7                                                 NaN  \n",
       "8                                                 NaN  \n",
       "9                                                 NaN  \n",
       "10  step 15 say verify notification coming from Tw...  \n",
       "11  here step 4 will be covered during launching o...  \n",
       "12                                                NaN  "
      ]
     },
     "execution_count": 43,
     "metadata": {},
     "output_type": "execute_result"
    }
   ],
   "source": [
    "testcases"
   ]
  },
  {
   "cell_type": "code",
   "execution_count": 44,
   "metadata": {},
   "outputs": [
    {
     "data": {
      "text/plain": [
       "['Userstory',\n",
       " 'TC_id',\n",
       " 'TC_name',\n",
       " 'QC Status',\n",
       " 'steps',\n",
       " 'possibility',\n",
       " 'assigned to',\n",
       " 'Reason  ']"
      ]
     },
     "execution_count": 44,
     "metadata": {},
     "output_type": "execute_result"
    }
   ],
   "source": [
    "cols_to_norm"
   ]
  },
  {
   "cell_type": "code",
   "execution_count": 46,
   "metadata": {},
   "outputs": [
    {
     "data": {
      "text/html": [
       "<div>\n",
       "<style scoped>\n",
       "    .dataframe tbody tr th:only-of-type {\n",
       "        vertical-align: middle;\n",
       "    }\n",
       "\n",
       "    .dataframe tbody tr th {\n",
       "        vertical-align: top;\n",
       "    }\n",
       "\n",
       "    .dataframe thead th {\n",
       "        text-align: right;\n",
       "    }\n",
       "</style>\n",
       "<table border=\"1\" class=\"dataframe\">\n",
       "  <thead>\n",
       "    <tr style=\"text-align: right;\">\n",
       "      <th></th>\n",
       "      <th>Userstory</th>\n",
       "      <th>TC_id</th>\n",
       "      <th>TC_name</th>\n",
       "      <th>QC Status</th>\n",
       "      <th>steps</th>\n",
       "      <th>possibility</th>\n",
       "      <th>assigned to</th>\n",
       "      <th>Reason</th>\n",
       "    </tr>\n",
       "  </thead>\n",
       "  <tbody>\n",
       "    <tr>\n",
       "      <th>0</th>\n",
       "      <td>US43431</td>\n",
       "      <td>295178</td>\n",
       "      <td>01.01 Conference Started message shown in the ...</td>\n",
       "      <td>candidate</td>\n",
       "      <td>18</td>\n",
       "      <td>yes</td>\n",
       "      <td>kiran</td>\n",
       "      <td>NaN</td>\n",
       "    </tr>\n",
       "    <tr>\n",
       "      <th>1</th>\n",
       "      <td>US43690</td>\n",
       "      <td>289772</td>\n",
       "      <td>01.00_Conversation with deleted user_1 to 1 chat</td>\n",
       "      <td>candidate</td>\n",
       "      <td>10</td>\n",
       "      <td>yes</td>\n",
       "      <td>kiran</td>\n",
       "      <td>NaN</td>\n",
       "    </tr>\n",
       "    <tr>\n",
       "      <th>2</th>\n",
       "      <td>US43690</td>\n",
       "      <td>295192</td>\n",
       "      <td>NaN</td>\n",
       "      <td>candidate</td>\n",
       "      <td>5</td>\n",
       "      <td>yes</td>\n",
       "      <td>Lois</td>\n",
       "      <td>NaN</td>\n",
       "    </tr>\n",
       "    <tr>\n",
       "      <th>3</th>\n",
       "      <td>US44470</td>\n",
       "      <td>289276</td>\n",
       "      <td>01.04 - Start conversation from 1-N contact ca...</td>\n",
       "      <td>candidate</td>\n",
       "      <td>10</td>\n",
       "      <td>yes</td>\n",
       "      <td>kiran</td>\n",
       "      <td>NaN</td>\n",
       "    </tr>\n",
       "    <tr>\n",
       "      <th>4</th>\n",
       "      <td>US44470</td>\n",
       "      <td>289256</td>\n",
       "      <td>02.02 User Attempts to start Direct Message wh...</td>\n",
       "      <td>candidate</td>\n",
       "      <td>13</td>\n",
       "      <td>no</td>\n",
       "      <td>NaN</td>\n",
       "      <td>step 11 says disconnect the LAN, which is not ...</td>\n",
       "    </tr>\n",
       "  </tbody>\n",
       "</table>\n",
       "</div>"
      ],
      "text/plain": [
       "  Userstory   TC_id                                            TC_name  \\\n",
       "0   US43431  295178  01.01 Conference Started message shown in the ...   \n",
       "1   US43690  289772   01.00_Conversation with deleted user_1 to 1 chat   \n",
       "2   US43690  295192                                                NaN   \n",
       "3   US44470  289276  01.04 - Start conversation from 1-N contact ca...   \n",
       "4   US44470  289256  02.02 User Attempts to start Direct Message wh...   \n",
       "\n",
       "   QC Status  steps possibility assigned to  \\\n",
       "0  candidate     18         yes       kiran   \n",
       "1  candidate     10         yes       kiran   \n",
       "2  candidate      5         yes        Lois   \n",
       "3  candidate     10         yes       kiran   \n",
       "4  candidate     13          no         NaN   \n",
       "\n",
       "                                            Reason    \n",
       "0                                                NaN  \n",
       "1                                                NaN  \n",
       "2                                                NaN  \n",
       "3                                                NaN  \n",
       "4  step 11 says disconnect the LAN, which is not ...  "
      ]
     },
     "execution_count": 46,
     "metadata": {},
     "output_type": "execute_result"
    }
   ],
   "source": [
    "testcases.head()"
   ]
  },
  {
   "cell_type": "code",
   "execution_count": 47,
   "metadata": {},
   "outputs": [
    {
     "data": {
      "text/plain": [
       "Index(['Userstory', 'TC_id', 'TC_name', 'QC Status', 'steps', 'possibility',\n",
       "       'assigned to', 'Reason  '],\n",
       "      dtype='object')"
      ]
     },
     "execution_count": 47,
     "metadata": {},
     "output_type": "execute_result"
    }
   ],
   "source": [
    "testcases.columns"
   ]
  },
  {
   "cell_type": "code",
   "execution_count": 49,
   "metadata": {},
   "outputs": [],
   "source": [
    "import tensorflow as tf"
   ]
  },
  {
   "cell_type": "code",
   "execution_count": 50,
   "metadata": {},
   "outputs": [],
   "source": [
    "testcases_ids = tf.feature_column.numeric_column('TC_id')"
   ]
  },
  {
   "cell_type": "code",
   "execution_count": 51,
   "metadata": {},
   "outputs": [
    {
     "data": {
      "text/plain": [
       "_NumericColumn(key='TC_id', shape=(1,), default_value=None, dtype=tf.float32, normalizer_fn=None)"
      ]
     },
     "execution_count": 51,
     "metadata": {},
     "output_type": "execute_result"
    }
   ],
   "source": [
    "testcases_ids"
   ]
  },
  {
   "cell_type": "code",
   "execution_count": 56,
   "metadata": {},
   "outputs": [],
   "source": [
    "testcases_name = tf.feature_column.numeric_column('TC_name')"
   ]
  },
  {
   "cell_type": "code",
   "execution_count": 57,
   "metadata": {},
   "outputs": [
    {
     "data": {
      "text/plain": [
       "_NumericColumn(key='TC_name', shape=(1,), default_value=None, dtype=tf.float32, normalizer_fn=None)"
      ]
     },
     "execution_count": 57,
     "metadata": {},
     "output_type": "execute_result"
    }
   ],
   "source": [
    "testcases_name"
   ]
  },
  {
   "cell_type": "code",
   "execution_count": 58,
   "metadata": {},
   "outputs": [],
   "source": [
    "testcases_US = tf.feature_column.numeric_column('Userstory')"
   ]
  },
  {
   "cell_type": "code",
   "execution_count": 59,
   "metadata": {},
   "outputs": [],
   "source": [
    "QC_Status = tf.feature_column.numeric_column('QC Status')"
   ]
  },
  {
   "cell_type": "code",
   "execution_count": 60,
   "metadata": {},
   "outputs": [],
   "source": [
    "steps = tf.feature_column.numeric_column('steps')\n",
    "possibility = tf.feature_column.numeric_column('possibility')\n",
    "assigned = tf.feature_column.numeric_column('assigned')\n",
    "reason = tf.feature_column.numeric_column('Reason')\n"
   ]
  },
  {
   "cell_type": "code",
   "execution_count": 61,
   "metadata": {},
   "outputs": [],
   "source": [
    "assigned_grp = tf.feature_column.categorical_column_with_vocabulary_list('Group', ['A','B','C','D'])"
   ]
  },
  {
   "cell_type": "code",
   "execution_count": 63,
   "metadata": {},
   "outputs": [],
   "source": [
    "assigned_grp = tf.feature_column.categorical_column_with_hash_bucket('Group', hash_bucket_size=10)"
   ]
  },
  {
   "cell_type": "code",
   "execution_count": 65,
   "metadata": {},
   "outputs": [],
   "source": [
    "import matplotlib.pyplot as plt\n",
    "%matplotlib inline"
   ]
  },
  {
   "cell_type": "code",
   "execution_count": 66,
   "metadata": {},
   "outputs": [
    {
     "data": {
      "text/plain": [
       "<matplotlib.axes._subplots.AxesSubplot at 0x200e841cfd0>"
      ]
     },
     "execution_count": 66,
     "metadata": {},
     "output_type": "execute_result"
    },
    {
     "data": {
      "image/png": "[encoded data removed]",
      "text/plain": [
       "<matplotlib.figure.Figure at 0x200ec1c0550>"
      ]
     },
     "metadata": {},
     "output_type": "display_data"
    }
   ],
   "source": [
    "testcases['TC_id'].hist(bins=20)"
   ]
  },
  {
   "cell_type": "code",
   "execution_count": 67,
   "metadata": {},
   "outputs": [
    {
     "data": {
      "text/plain": [
       "<matplotlib.axes._subplots.AxesSubplot at 0x200e8563da0>"
      ]
     },
     "execution_count": 67,
     "metadata": {},
     "output_type": "execute_result"
    },
    {
     "data": {
      "image/png": "[encoded data removed]",
      "text/plain": [
       "<matplotlib.figure.Figure at 0x200e85053c8>"
      ]
     },
     "metadata": {},
     "output_type": "display_data"
    }
   ],
   "source": [
    "testcases['TC_name'].hist(bins=20)"
   ]
  },
  {
   "cell_type": "code",
   "execution_count": 68,
   "metadata": {},
   "outputs": [],
   "source": [
    "tc_bucket = tf.feature_column.bucketized_column(steps, boundaries=[20,30,40,50,60,70,80])"
   ]
  },
  {
   "cell_type": "code",
   "execution_count": 69,
   "metadata": {},
   "outputs": [
    {
     "data": {
      "text/plain": [
       "_BucketizedColumn(source_column=_NumericColumn(key='steps', shape=(1,), default_value=None, dtype=tf.float32, normalizer_fn=None), boundaries=(20, 30, 40, 50, 60, 70, 80))"
      ]
     },
     "execution_count": 69,
     "metadata": {},
     "output_type": "execute_result"
    }
   ],
   "source": [
    "tc_bucket"
   ]
  },
  {
   "cell_type": "code",
   "execution_count": 70,
   "metadata": {},
   "outputs": [],
   "source": [
    "feat_cols = [testcases_ids, testcases_name, testcases_US, steps, possibility, assigned, reason]"
   ]
  },
  {
   "cell_type": "code",
   "execution_count": 71,
   "metadata": {},
   "outputs": [
    {
     "data": {
      "text/plain": [
       "[_NumericColumn(key='TC_id', shape=(1,), default_value=None, dtype=tf.float32, normalizer_fn=None),\n",
       " _NumericColumn(key='TC_name', shape=(1,), default_value=None, dtype=tf.float32, normalizer_fn=None),\n",
       " _NumericColumn(key='Userstory', shape=(1,), default_value=None, dtype=tf.float32, normalizer_fn=None),\n",
       " _NumericColumn(key='steps', shape=(1,), default_value=None, dtype=tf.float32, normalizer_fn=None),\n",
       " _NumericColumn(key='possibility', shape=(1,), default_value=None, dtype=tf.float32, normalizer_fn=None),\n",
       " _NumericColumn(key='assigned', shape=(1,), default_value=None, dtype=tf.float32, normalizer_fn=None),\n",
       " _NumericColumn(key='Reason', shape=(1,), default_value=None, dtype=tf.float32, normalizer_fn=None)]"
      ]
     },
     "execution_count": 71,
     "metadata": {},
     "output_type": "execute_result"
    }
   ],
   "source": [
    "feat_cols"
   ]
  },
  {
   "cell_type": "code",
   "execution_count": 76,
   "metadata": {},
   "outputs": [
    {
     "ename": "ValueError",
     "evalue": "No axis named 2 for object type <class 'pandas.core.frame.DataFrame'>",
     "output_type": "error",
     "traceback": [
      "\u001b[1;31m---------------------------------------------------------------------------\u001b[0m",
      "\u001b[1;31mValueError\u001b[0m                                Traceback (most recent call last)",
      "\u001b[1;32m<ipython-input-76-2e52400e3d49>\u001b[0m in \u001b[0;36m<module>\u001b[1;34m()\u001b[0m\n\u001b[1;32m----> 1\u001b[1;33m \u001b[0mx_data\u001b[0m \u001b[1;33m=\u001b[0m \u001b[0mtestcases\u001b[0m\u001b[1;33m.\u001b[0m\u001b[0mdrop\u001b[0m\u001b[1;33m(\u001b[0m\u001b[1;34m'Class'\u001b[0m\u001b[1;33m,\u001b[0m \u001b[0maxis\u001b[0m\u001b[1;33m=\u001b[0m\u001b[1;36m2\u001b[0m\u001b[1;33m)\u001b[0m\u001b[1;33m\u001b[0m\u001b[0m\n\u001b[0m",
      "\u001b[1;32m~\\AppData\\Local\\Continuum\\anaconda3\\lib\\site-packages\\pandas\\core\\generic.py\u001b[0m in \u001b[0;36mdrop\u001b[1;34m(self, labels, axis, index, columns, level, inplace, errors)\u001b[0m\n\u001b[0;32m   2516\u001b[0m                 raise ValueError(\"Cannot specify both 'labels' and \"\n\u001b[0;32m   2517\u001b[0m                                  \"'index'/'columns'\")\n\u001b[1;32m-> 2518\u001b[1;33m             \u001b[0maxis_name\u001b[0m \u001b[1;33m=\u001b[0m \u001b[0mself\u001b[0m\u001b[1;33m.\u001b[0m\u001b[0m_get_axis_name\u001b[0m\u001b[1;33m(\u001b[0m\u001b[0maxis\u001b[0m\u001b[1;33m)\u001b[0m\u001b[1;33m\u001b[0m\u001b[0m\n\u001b[0m\u001b[0;32m   2519\u001b[0m             \u001b[0maxes\u001b[0m \u001b[1;33m=\u001b[0m \u001b[1;33m{\u001b[0m\u001b[0maxis_name\u001b[0m\u001b[1;33m:\u001b[0m \u001b[0mlabels\u001b[0m\u001b[1;33m}\u001b[0m\u001b[1;33m\u001b[0m\u001b[0m\n\u001b[0;32m   2520\u001b[0m         \u001b[1;32melif\u001b[0m \u001b[0mindex\u001b[0m \u001b[1;32mis\u001b[0m \u001b[1;32mnot\u001b[0m \u001b[1;32mNone\u001b[0m \u001b[1;32mor\u001b[0m \u001b[0mcolumns\u001b[0m \u001b[1;32mis\u001b[0m \u001b[1;32mnot\u001b[0m \u001b[1;32mNone\u001b[0m\u001b[1;33m:\u001b[0m\u001b[1;33m\u001b[0m\u001b[0m\n",
      "\u001b[1;32m~\\AppData\\Local\\Continuum\\anaconda3\\lib\\site-packages\\pandas\\core\\generic.py\u001b[0m in \u001b[0;36m_get_axis_name\u001b[1;34m(self, axis)\u001b[0m\n\u001b[0;32m    368\u001b[0m                 \u001b[1;32mpass\u001b[0m\u001b[1;33m\u001b[0m\u001b[0m\n\u001b[0;32m    369\u001b[0m         raise ValueError('No axis named {0} for object type {1}'\n\u001b[1;32m--> 370\u001b[1;33m                          .format(axis, type(self)))\n\u001b[0m\u001b[0;32m    371\u001b[0m \u001b[1;33m\u001b[0m\u001b[0m\n\u001b[0;32m    372\u001b[0m     \u001b[1;32mdef\u001b[0m \u001b[0m_get_axis\u001b[0m\u001b[1;33m(\u001b[0m\u001b[0mself\u001b[0m\u001b[1;33m,\u001b[0m \u001b[0maxis\u001b[0m\u001b[1;33m)\u001b[0m\u001b[1;33m:\u001b[0m\u001b[1;33m\u001b[0m\u001b[0m\n",
      "\u001b[1;31mValueError\u001b[0m: No axis named 2 for object type <class 'pandas.core.frame.DataFrame'>"
     ]
    }
   ],
   "source": [
    "x_data = testcases.drop('Class', axis=2)"
   ]
  },
  {
   "cell_type": "code",
   "execution_count": 78,
   "metadata": {},
   "outputs": [
    {
     "ename": "NameError",
     "evalue": "name 'x_data' is not defined",
     "output_type": "error",
     "traceback": [
      "\u001b[1;31m---------------------------------------------------------------------------\u001b[0m",
      "\u001b[1;31mNameError\u001b[0m                                 Traceback (most recent call last)",
      "\u001b[1;32m<ipython-input-78-864c1a255ed1>\u001b[0m in \u001b[0;36m<module>\u001b[1;34m()\u001b[0m\n\u001b[1;32m----> 1\u001b[1;33m \u001b[0mx_data\u001b[0m\u001b[1;33m.\u001b[0m\u001b[0mhead\u001b[0m\u001b[1;33m(\u001b[0m\u001b[1;33m)\u001b[0m\u001b[1;33m\u001b[0m\u001b[0m\n\u001b[0m",
      "\u001b[1;31mNameError\u001b[0m: name 'x_data' is not defined"
     ]
    }
   ],
   "source": [
    "x_data.head()"
   ]
  },
  {
   "cell_type": "code",
   "execution_count": null,
   "metadata": {},
   "outputs": [],
   "source": []
  }
 ],
 "metadata": {
  "kernelspec": {
   "display_name": "Python 3",
   "language": "python",
   "name": "python3"
  },
  "language_info": {
   "codemirror_mode": {
    "name": "ipython",
    "version": 3
   },
   "file_extension": ".py",
   "mimetype": "text/x-python",
   "name": "python",
   "nbconvert_exporter": "python",
   "pygments_lexer": "ipython3",
   "version": "3.6.4"
  }
 },
 "nbformat": 4,
 "nbformat_minor": 2
}
